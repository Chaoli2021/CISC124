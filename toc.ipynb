{
 "cells": [
  {
   "cell_type": "markdown",
   "metadata": {},
   "source": [
    "<a id=\"notebook_id\"></a>\n",
    "# Table of contents\n",
    "\n",
    "NOTE: This page will likely be updated frequently as new material is posted.\n",
    "\n",
    "* Part 1: Transitioning from Python to Java\n",
    "    * [A first Java program: \"Hello, world!\"](./part1/first_java_program.ipynb#notebook_id)\n",
    "    * [A closer look at the \"Hello, world!\" program](./part1/a_closer_look_at_HelloWorld.ipynb#notebook_id)\n",
    "    * [The Java Virtual Machine (JVM) and Java compiler](./part1/java_virtual_machine_and_java_compiler.ipynb#notebook_id)\n",
    "    * [Interpreted versus compiled languages](./part1/interpreted_vs_compiled.ipynb#notebook_id)\n",
    "    * [Dynamic versus static typing](./part1/dynamic_versus_static_typing.ipynb#notebook_id)\n",
    "    * [Indentation](./part1/indentation.ipynb#notebook_id)\n",
    "    * [Comments](./part1/comments.ipynb#notebook_id)\n",
    "    * [Primitive versus reference types](./part1/primitive_versus_reference_types.ipynb#notebook_id)\n",
    "    * [Integer types](./part1/integer_types.ipynb#notebook_id)\n",
    "    * [Floating-point types](./part1/floating_point_types.ipynb#notebook_id)\n",
    "    * [Reading an API](./part1/reading_an_api.ipynb#notebook_id)\n",
    "    * [Arithmetic](./part1/arithmetic.ipynb#notebook_id)\n",
    "    * [Booleans](./part1/booleans.ipynb#notebook_id)\n",
    "    * [Comparison operators](./part1/comparison_operators.ipynb#notebook_id)\n",
    "    * [The `char` type](./part1/char.ipynb#notebook_id)\n",
    "    * [Types, classes, and objects](./part1/types_classes_objects.ipynb#notebook_id)\n",
    "    * [Creating and using objects](./part1/creating_and_using_objects.ipynb#notebook_id)\n",
    "    * [Strings](./part1/strings.ipynb#notebook_id)\n",
    "    * [Arrays](./part1/arrays.ipynb#notebook_id)\n",
    "    * [Boolean operators](./part1/boolean_operators.ipynb#notebook_id)\n",
    "    * [If statements](./part1/if_statements.ipynb#notebook_id)\n",
    "    * [Loops](./part1/loops.ipynb#notebook_id)\n",
    "    * [Lists](./part1/lists.ipynb#notebook_id)\n",
    "    * [Sets](./part1/sets.ipynb#notebook_id)\n",
    "    * [Maps](./part1/maps.ipynb#notebook_id)\n",
    "* Part 2: Classes\n",
    "* Part 3: Interfaces and inheritance\n",
    "* Part 4: JavaFX"
   ]
  }
 ],
 "metadata": {
  "kernelspec": {
   "display_name": "Python 3",
   "language": "python",
   "name": "python3"
  },
  "language_info": {
   "codemirror_mode": {
    "name": "ipython",
    "version": 3
   },
   "file_extension": ".py",
   "mimetype": "text/x-python",
   "name": "python",
   "nbconvert_exporter": "python",
   "pygments_lexer": "ipython3",
   "version": "3.6.10"
  },
  "toc": {
   "base_numbering": 1,
   "nav_menu": {},
   "number_sections": false,
   "sideBar": false,
   "skip_h1_title": false,
   "title_cell": "Table of Contents",
   "title_sidebar": "Contents",
   "toc_cell": false,
   "toc_position": {},
   "toc_section_display": false,
   "toc_window_display": false
  }
 },
 "nbformat": 4,
 "nbformat_minor": 4
}
