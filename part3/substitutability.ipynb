{
 "cells": [
  {
   "cell_type": "code",
   "execution_count": 1,
   "metadata": {},
   "outputs": [],
   "source": [
    "// run this cell to prevent Jupyter from displaying the null output cell\n",
    "com.twosigma.beakerx.kernel.Kernel.showNullExecutionResult = false;"
   ]
  },
  {
   "cell_type": "markdown",
   "metadata": {},
   "source": [
    "<a id=\"notebook_id\"></a>\n",
    "# Substitutability\n",
    "\n",
    "Inheritance models the is-a or is-substitutable-for relationship. What this means is that a subtype object should always be usable whenever a supertype object is required, and doing so will not cause a program to behave unexpectedly.\n",
    "\n",
    "In object-oriented programming, the term *substitutability* often refers to the Liskov substitution principle (named after [Barbara Liskov](https://en.wikipedia.org/wiki/Barbara_Liskov) who first described the principle). The formal definition of the principle is\n",
    "\n",
    "> Let $\\phi(x)$ be a property provable about objects $x$ of type T. Then $\\phi(y)$ should be true for objects $y$ of type S where S is a subtype of T. \n",
    "\n",
    "In practice, Liskov substitutability means that subclass objects must behave the same as objects of their supertype. Object behaviour is determined by the object's methods; thus ensuring substitutability requires paying careful attention when overriding methods in a subclass.\n",
    "\n",
    "## Method parameters\n",
    "\n",
    "Many methods place restrictions on their parameter values. \n",
    "\n",
    "An overridden method of a subclass needs to accept the same input parameter values as the method of the superclass. That means you can implement less restrictive validation rules, but you are not allowed to enforce stricter ones in your subclass. Otherwise, any code that calls this method on an object of the superclass might cause an exception, if it gets called with an object of the subclass.\n",
    "\n",
    "\n",
    "## Method return values \n",
    "\n",
    "Similar rules apply to the return value of the method. The return value of a method of the subclass needs to comply with the same rules as the return value of the method of the superclass. You can only decide to apply even stricter rules by returning a specific subclass of the defined return value, or by returning a subset of the valid return values of the superclass.\n",
    "\n",
    "\n",
    "## Class invariants"
   ]
  },
  {
   "cell_type": "code",
   "execution_count": null,
   "metadata": {},
   "outputs": [],
   "source": []
  }
 ],
 "metadata": {
  "kernelspec": {
   "display_name": "Java",
   "language": "java",
   "name": "java"
  },
  "language_info": {
   "codemirror_mode": "text/x-java",
   "file_extension": ".java",
   "mimetype": "",
   "name": "Java",
   "nbconverter_exporter": "",
   "version": "1.8.0_121"
  },
  "toc": {
   "base_numbering": 1,
   "nav_menu": {},
   "number_sections": false,
   "sideBar": false,
   "skip_h1_title": false,
   "title_cell": "Table of Contents",
   "title_sidebar": "Contents",
   "toc_cell": false,
   "toc_position": {},
   "toc_section_display": false,
   "toc_window_display": false
  }
 },
 "nbformat": 4,
 "nbformat_minor": 4
}
